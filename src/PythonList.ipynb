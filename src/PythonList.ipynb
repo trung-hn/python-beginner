{
 "cells": [
  {
   "cell_type": "markdown",
   "id": "ea59b31a-0649-4204-8e60-99d7e447d804",
   "metadata": {
    "tags": []
   },
   "source": [
    "# Everything you need to know about List in Python* \n",
    "\n",
    "Reference:\n",
    "- https://docs.python.org/3/tutorial/datastructures.html#more-on-lists\n",
    "- https://docs.python.org/3/library/stdtypes.html#mutable-sequence-types\n",
    "\n",
    "*for the purpose of solving algorithms problems."
   ]
  },
  {
   "cell_type": "markdown",
   "id": "47eb59bc-af76-4f62-90e1-0a189411ee9e",
   "metadata": {
    "tags": []
   },
   "source": [
    "## Initilization"
   ]
  },
  {
   "cell_type": "code",
   "execution_count": 1,
   "id": "b337f3af-7c05-4c14-9a0f-a8b780d9cf24",
   "metadata": {},
   "outputs": [],
   "source": [
    "L = []\n",
    "L = list()\n",
    "L = [1,2,3]\n",
    "L = list(range(1, 4))\n",
    "L = [val for val in range(1, 4)]"
   ]
  },
  {
   "cell_type": "markdown",
   "id": "c5546cfb-b5eb-4c70-b47f-84550fff3d3f",
   "metadata": {},
   "source": [
    "## Indexing and Slicing"
   ]
  },
  {
   "cell_type": "code",
   "execution_count": 2,
   "id": "39cec490-116c-4687-8027-33f8b0a16a98",
   "metadata": {},
   "outputs": [
    {
     "name": "stdout",
     "output_type": "stream",
     "text": [
      "1\n"
     ]
    }
   ],
   "source": [
    "L = [1, 2, 3]\n",
    "print(L[0])"
   ]
  },
  {
   "cell_type": "code",
   "execution_count": 3,
   "id": "aed5be9c-4320-4e64-b91e-a17833590666",
   "metadata": {},
   "outputs": [
    {
     "name": "stdout",
     "output_type": "stream",
     "text": [
      "3\n"
     ]
    }
   ],
   "source": [
    "L = [1, 2, 3]\n",
    "print(L[-1])"
   ]
  },
  {
   "cell_type": "code",
   "execution_count": 4,
   "id": "5e62573a-d7e6-4fe9-83b1-d80e3f3275cc",
   "metadata": {},
   "outputs": [
    {
     "name": "stdout",
     "output_type": "stream",
     "text": [
      "[2, 3]\n"
     ]
    }
   ],
   "source": [
    "L = [1, 2, 3, 4, 5]\n",
    "print(L[1:3])"
   ]
  },
  {
   "cell_type": "code",
   "execution_count": 5,
   "id": "9a29518c-093e-4d9b-a692-c0e5e23eff11",
   "metadata": {},
   "outputs": [
    {
     "name": "stdout",
     "output_type": "stream",
     "text": [
      "[1, 2, 3]\n"
     ]
    }
   ],
   "source": [
    "L = [1, 2, 3, 4, 5]\n",
    "print(L[:3])"
   ]
  },
  {
   "cell_type": "code",
   "execution_count": 6,
   "id": "4f5e64df-af2e-4cd5-8a86-ed5308d47f11",
   "metadata": {},
   "outputs": [
    {
     "name": "stdout",
     "output_type": "stream",
     "text": [
      "[4, 5]\n"
     ]
    }
   ],
   "source": [
    "L = [1, 2, 3, 4, 5]\n",
    "print(L[3:])"
   ]
  },
  {
   "cell_type": "code",
   "execution_count": 7,
   "id": "2d4f9c27-0363-4998-ae67-8458484f63a2",
   "metadata": {},
   "outputs": [
    {
     "name": "stdout",
     "output_type": "stream",
     "text": [
      "[1, 3, 5]\n"
     ]
    }
   ],
   "source": [
    "L = [1, 2, 3, 4, 5]\n",
    "print(L[::2])"
   ]
  },
  {
   "cell_type": "code",
   "execution_count": 8,
   "id": "459afd2e-06e8-4716-8bf4-fa8d9cb030ee",
   "metadata": {},
   "outputs": [
    {
     "name": "stdout",
     "output_type": "stream",
     "text": [
      "[5, 4, 3, 2, 1]\n"
     ]
    }
   ],
   "source": [
    "L = [1, 2, 3, 4, 5]\n",
    "print(L[::-1])"
   ]
  },
  {
   "cell_type": "code",
   "execution_count": 9,
   "id": "5687f340-31ab-4ebd-a3d0-8237cd09f96e",
   "metadata": {},
   "outputs": [
    {
     "name": "stdout",
     "output_type": "stream",
     "text": [
      "[1, 1, 1, 1, 1]\n"
     ]
    }
   ],
   "source": [
    "L = [1] * 5\n",
    "print(L)"
   ]
  },
  {
   "cell_type": "code",
   "execution_count": 10,
   "id": "1a4c6ecb-da8c-4529-b5ef-842baecda432",
   "metadata": {},
   "outputs": [
    {
     "name": "stdout",
     "output_type": "stream",
     "text": [
      "[1, 2, 3, 4, 5]\n"
     ]
    }
   ],
   "source": [
    "L = [1, 2, 3]\n",
    "L += [4, 5]\n",
    "print(L)"
   ]
  },
  {
   "cell_type": "markdown",
   "id": "6e4453d4-af98-409c-87fa-8af881b6b8d1",
   "metadata": {
    "tags": []
   },
   "source": [
    "## List Methods (Frequently use)\n",
    "\n",
    "Sorted From Most used to Least used methods (Approximately)"
   ]
  },
  {
   "cell_type": "markdown",
   "id": "4eefb764-461c-4671-9ea1-232f88ac7561",
   "metadata": {},
   "source": [
    "### append()\n",
    "`L.append(x)` adds x to the end of L. Same as `L[len(L):] = [x]`"
   ]
  },
  {
   "cell_type": "code",
   "execution_count": 11,
   "id": "3e94839f-d9cd-43c2-9000-41926caeef6d",
   "metadata": {},
   "outputs": [
    {
     "name": "stdout",
     "output_type": "stream",
     "text": [
      "[1, 2, 3, 4]\n"
     ]
    }
   ],
   "source": [
    "L = [1, 2, 3]\n",
    "L.append(4)\n",
    "print(L)"
   ]
  },
  {
   "cell_type": "markdown",
   "id": "4ae2d530-3c92-49a1-9046-b971613e8443",
   "metadata": {
    "tags": []
   },
   "source": [
    "### extend()\n",
    "`L.extend(iterable)` adds multiple values to the end of L. Same as `L[len(L):] = iterable`"
   ]
  },
  {
   "cell_type": "code",
   "execution_count": 12,
   "id": "17053795-206a-4162-bdf4-d47d496dee96",
   "metadata": {},
   "outputs": [
    {
     "name": "stdout",
     "output_type": "stream",
     "text": [
      "[1, 2, 3, 4, 5]\n"
     ]
    }
   ],
   "source": [
    "L = [1, 2, 3]\n",
    "L.extend([4, 5])\n",
    "print(L)"
   ]
  },
  {
   "cell_type": "markdown",
   "id": "489bc3e1-1888-4657-bc75-25b1b9492587",
   "metadata": {},
   "source": [
    "### pop()\n",
    "`L.pop()` removes the last item (at the end) of `L`. "
   ]
  },
  {
   "cell_type": "code",
   "execution_count": 13,
   "id": "be20fc9c-a7ac-4c57-8eaa-c2fbf5efd1e5",
   "metadata": {},
   "outputs": [
    {
     "name": "stdout",
     "output_type": "stream",
     "text": [
      "[1, 2]\n"
     ]
    }
   ],
   "source": [
    "L = [1, 2, 3]\n",
    "L.pop()\n",
    "print(L)"
   ]
  },
  {
   "cell_type": "markdown",
   "id": "f3327735",
   "metadata": {},
   "source": [
    "\n",
    "`L.pop([i])` also takes an optional index of the item we wish to remove.\n",
    "\n",
    "Disclaimer: Refrain from using `pop(i)` because it can affect your time complexity (It's slow). On the other hand, `L.pop()` is very fast"
   ]
  },
  {
   "cell_type": "code",
   "execution_count": 14,
   "id": "8cb30dd9",
   "metadata": {},
   "outputs": [
    {
     "name": "stdout",
     "output_type": "stream",
     "text": [
      "[2, 3]\n"
     ]
    }
   ],
   "source": [
    "L = [1, 2, 3]\n",
    "L.pop(0)\n",
    "print(L)"
   ]
  },
  {
   "cell_type": "markdown",
   "id": "8d2b11bc-a824-4d25-8aa8-10d746b0411c",
   "metadata": {},
   "source": [
    "### sort()\n",
    "\n",
    "`L.sort()` will sort `L` **in place**. In place means L is sorted after running `L.sort()` but it returns `None`. "
   ]
  },
  {
   "cell_type": "code",
   "execution_count": 39,
   "id": "49bbd67c-a35f-43af-8a95-7dd7c722fb7e",
   "metadata": {},
   "outputs": [
    {
     "name": "stdout",
     "output_type": "stream",
     "text": [
      "[-2, -1, 0, 1, 2]\n"
     ]
    }
   ],
   "source": [
    "L = [0, 1, 2, -1, -2]\n",
    "L.sort()\n",
    "print(L)"
   ]
  },
  {
   "cell_type": "markdown",
   "id": "bad5b535",
   "metadata": {},
   "source": [
    "`L.sort()` takes an argument `reverse` (default is `False`) if you want to sort it in reversed order."
   ]
  },
  {
   "cell_type": "code",
   "execution_count": 16,
   "id": "da78ce3c-d287-41bf-acd3-4e0501c4e93d",
   "metadata": {},
   "outputs": [
    {
     "name": "stdout",
     "output_type": "stream",
     "text": [
      "[2, 1, 0, -1, -2]\n"
     ]
    }
   ],
   "source": [
    "L = [-2, -1, 0, 1, 2]\n",
    "L.sort(reverse=True)\n",
    "print(L)"
   ]
  },
  {
   "cell_type": "markdown",
   "id": "c0134ea3",
   "metadata": {},
   "source": [
    "`L.sort()` also takes argument `key` (default is `None`) where you can specific the sorting criteria e.g. base on length or absolute value"
   ]
  },
  {
   "cell_type": "code",
   "execution_count": 17,
   "id": "d7b670cc-f70d-47a1-a95c-e4aeb34fbee5",
   "metadata": {},
   "outputs": [
    {
     "name": "stdout",
     "output_type": "stream",
     "text": [
      "[0, -1, 1, -2, 2]\n"
     ]
    }
   ],
   "source": [
    "L = [-2, -1, 0, 1, 2]\n",
    "L.sort(key=abs)\n",
    "print(L)"
   ]
  },
  {
   "cell_type": "markdown",
   "id": "191cfedf",
   "metadata": {},
   "source": [
    "You can use all arguments together as well"
   ]
  },
  {
   "cell_type": "code",
   "execution_count": 18,
   "id": "05353749",
   "metadata": {},
   "outputs": [
    {
     "name": "stdout",
     "output_type": "stream",
     "text": [
      "[-2, 2, -1, 1, 0]\n"
     ]
    }
   ],
   "source": [
    "L = [-2, -1, 0, 1, 2]\n",
    "L.sort(key=abs, reverse=True)\n",
    "print(L)"
   ]
  },
  {
   "cell_type": "markdown",
   "id": "2d2143c6-fe62-4962-8100-63613052d154",
   "metadata": {},
   "source": [
    "### reverse()\n",
    "\n",
    "`L.reverse()` will reverse all elements of the list **in place**"
   ]
  },
  {
   "cell_type": "code",
   "execution_count": 19,
   "id": "790662ee-518d-402b-a8f1-550ba97a1ad7",
   "metadata": {},
   "outputs": [
    {
     "name": "stdout",
     "output_type": "stream",
     "text": [
      "[3, 2, 1]\n"
     ]
    }
   ],
   "source": [
    "L = [1, 2, 3]\n",
    "L.reverse()\n",
    "print(L)"
   ]
  },
  {
   "cell_type": "markdown",
   "id": "bd0af039-a028-4ad3-81d5-7491c0a3d239",
   "metadata": {},
   "source": [
    "### index()\n",
    "\n",
    "`L.index(x)` returns zero-based index of the **first** item that is equal to `x` in list `L`"
   ]
  },
  {
   "cell_type": "code",
   "execution_count": 20,
   "id": "5c345cdb-60ac-4af8-9b48-e1ff7632a7df",
   "metadata": {
    "tags": []
   },
   "outputs": [
    {
     "name": "stdout",
     "output_type": "stream",
     "text": [
      "1\n"
     ]
    }
   ],
   "source": [
    "L = [1, 2, 3, 2, 1, 2]\n",
    "print(L.index(2)) # Search for value 2"
   ]
  },
  {
   "cell_type": "markdown",
   "id": "a10bdd80",
   "metadata": {},
   "source": [
    "`L.index(x[, start[, end]])` also takes optional arguments `start` and `end` to decide the limit while searching"
   ]
  },
  {
   "cell_type": "code",
   "execution_count": 21,
   "id": "09034d50-e2a6-440f-b6ab-45890c729520",
   "metadata": {
    "tags": []
   },
   "outputs": [
    {
     "name": "stdout",
     "output_type": "stream",
     "text": [
      "3\n"
     ]
    }
   ],
   "source": [
    "L = [1, 2, 3, 2, 1, 2]\n",
    "print(L.index(2, 2, 4)) # Search for value 2 between index 2 and 3"
   ]
  },
  {
   "cell_type": "code",
   "execution_count": 22,
   "id": "4eaf4d2c-3353-429f-85bc-ba42861063b3",
   "metadata": {
    "tags": []
   },
   "outputs": [
    {
     "name": "stdout",
     "output_type": "stream",
     "text": [
      "5\n"
     ]
    }
   ],
   "source": [
    "L = [1, 2, 3, 2, 1, 2]\n",
    "print(L.index(2, 4)) # Search for value 2 from index 4 (until the end of L)"
   ]
  },
  {
   "cell_type": "markdown",
   "id": "d0110edc-2e4d-42b1-92fc-f9746caca5ce",
   "metadata": {},
   "source": [
    "### count()\n",
    "\n",
    "`L.count(x)` returns the number of times `x` appears in `L`"
   ]
  },
  {
   "cell_type": "code",
   "execution_count": 23,
   "id": "85912aa7-9a90-47c9-a9ff-bc96ec9fd739",
   "metadata": {
    "tags": []
   },
   "outputs": [
    {
     "name": "stdout",
     "output_type": "stream",
     "text": [
      "3\n"
     ]
    }
   ],
   "source": [
    "L = [1, 1, 1, 2, 2, 2, 3]\n",
    "print(L.count(1))"
   ]
  },
  {
   "cell_type": "markdown",
   "id": "497ca414-49d9-4ec6-8230-55d7b5faed75",
   "metadata": {},
   "source": [
    "## List Methods (Rarely use)"
   ]
  },
  {
   "cell_type": "markdown",
   "id": "8f124c37-3d53-43f3-ae4b-54c7e1e536e0",
   "metadata": {},
   "source": [
    "### copy()\n",
    "\n",
    "Shallow copy. Refrain from using this because it might create unexpected behavior. Same as `L[:]`"
   ]
  },
  {
   "cell_type": "code",
   "execution_count": 24,
   "id": "1e8a32c6-4a7c-4b2a-8a0c-56f8cbf46bd4",
   "metadata": {},
   "outputs": [
    {
     "name": "stdout",
     "output_type": "stream",
     "text": [
      "[1, 2, 3]\n"
     ]
    }
   ],
   "source": [
    "L = [1, 2, 3]\n",
    "shallow_L = L.copy() # Same as shallow_L = L[:]\n",
    "print(shallow_L)"
   ]
  },
  {
   "cell_type": "markdown",
   "id": "b3acdef7-0f20-48d7-b15d-c49d0c02e668",
   "metadata": {},
   "source": [
    "### remove()\n",
    "\n",
    "`L.remove(x)` removes the first item `x` from the list `L`\n",
    "\n",
    "Disclaimer: Refrain from using this because it affects your time complexity (It's slow)."
   ]
  },
  {
   "cell_type": "code",
   "execution_count": 25,
   "id": "752c3648-db49-4c59-9832-eaf332601d0a",
   "metadata": {},
   "outputs": [
    {
     "name": "stdout",
     "output_type": "stream",
     "text": [
      "[1, 2, 3, 2, 1]\n"
     ]
    }
   ],
   "source": [
    "L = [1, 1, 2, 3, 2, 1]\n",
    "L.remove(1)\n",
    "print(L)"
   ]
  },
  {
   "cell_type": "markdown",
   "id": "bf9b3b6e-ece2-4b37-acab-93f3e1e1783b",
   "metadata": {},
   "source": [
    "### insert()\n",
    "`L.insert(i, x)`: Add value `x` to index `i`. `L.insert(len(L), x)` is the same as `L.append(x)`\n",
    "\n",
    "Disclaimer: Refrain from using this because it affects your time complexity (It's slow)."
   ]
  },
  {
   "cell_type": "code",
   "execution_count": 26,
   "id": "390e2532-99f8-433b-a22a-46d516812ce0",
   "metadata": {},
   "outputs": [
    {
     "name": "stdout",
     "output_type": "stream",
     "text": [
      "[-1, 1, 2, 3]\n"
     ]
    }
   ],
   "source": [
    "L = [1, 2, 3]\n",
    "L.insert(0, -1)\n",
    "print(L)"
   ]
  },
  {
   "cell_type": "markdown",
   "id": "612f0299-8fe9-409e-81d1-864a3ca4b181",
   "metadata": {},
   "source": [
    "### clear()\n",
    "\n",
    "`L.clear()` removes all items from list L. Same as `del L[:]`"
   ]
  },
  {
   "cell_type": "code",
   "execution_count": 27,
   "id": "01bed424-45e2-4b48-bcf4-aa5eb6bce437",
   "metadata": {},
   "outputs": [
    {
     "name": "stdout",
     "output_type": "stream",
     "text": [
      "[]\n"
     ]
    }
   ],
   "source": [
    "L = [1, 2 ,3]\n",
    "L.clear() # same as del L[:]\n",
    "print(L)"
   ]
  },
  {
   "cell_type": "markdown",
   "id": "d5211f69-e94e-43e8-8402-d5a0450405ec",
   "metadata": {},
   "source": [
    "## Example\n",
    "[Leetcode 832. Flipping an Image](https://leetcode.com/problems/flipping-an-image/)\n",
    "\n",
    "This question has **2 parts**: flip an image and then invert it (`0` to `1` and `1` to `0`). Here are different ways to **flip an image horizontally**"
   ]
  },
  {
   "cell_type": "code",
   "execution_count": 56,
   "id": "e4ca9d9e-253f-40d4-b565-b907df3d6a3a",
   "metadata": {},
   "outputs": [
    {
     "name": "stdout",
     "output_type": "stream",
     "text": [
      "[[3, 2, 1], [6, 5, 4]]\n"
     ]
    }
   ],
   "source": [
    "def flip_image(image):\n",
    "    \"\"\"\n",
    "    Most Basic way, reverse using indexing\n",
    "    \"\"\"\n",
    "    new_image = []\n",
    "    for row in image:\n",
    "        new_row = []\n",
    "        for i in range(len(row)):\n",
    "            new_row.append(row[-i - 1])\n",
    "        new_image.append(new_row)\n",
    "    return new_image\n",
    "    \n",
    "print(flip_image([[1, 2, 3], [4, 5, 6]]))"
   ]
  },
  {
   "cell_type": "code",
   "execution_count": 32,
   "id": "6f8bb010-78f2-4694-ae62-70c6ae2c715f",
   "metadata": {},
   "outputs": [
    {
     "name": "stdout",
     "output_type": "stream",
     "text": [
      "[[3, 2, 1], [6, 5, 4]]\n"
     ]
    }
   ],
   "source": [
    "def flip_image(image):\n",
    "    \"\"\"\n",
    "    Reverse using slicding and list comprehension\n",
    "    \"\"\"\n",
    "    new_image = [row[::-1] for row in image]\n",
    "    return new_image\n",
    "    \n",
    "print(flip_image([[1, 2, 3], [4, 5, 6]]))"
   ]
  },
  {
   "cell_type": "code",
   "execution_count": 55,
   "id": "834b6895-6e80-4215-83c0-943f401817ed",
   "metadata": {},
   "outputs": [
    {
     "name": "stdout",
     "output_type": "stream",
     "text": [
      "[[3, 2, 1], [6, 5, 4]]\n"
     ]
    }
   ],
   "source": [
    "def flip_image(image):\n",
    "    \"\"\"\n",
    "    Reverse using indexing assignment. In place\n",
    "    \"\"\"\n",
    "    for row in image:\n",
    "        for i in range(len(row) // 2):\n",
    "            row[i], row[~i] = row[~i], row[i]\n",
    "    return image\n",
    "    \n",
    "print(flip_image([[1, 2, 3], [4, 5, 6]]))"
   ]
  },
  {
   "cell_type": "code",
   "execution_count": 34,
   "id": "5532c61b-11a4-47a5-bddd-b37b8cff0861",
   "metadata": {
    "tags": []
   },
   "outputs": [
    {
     "name": "stdout",
     "output_type": "stream",
     "text": [
      "[[3, 2, 1], [6, 5, 4]]\n"
     ]
    }
   ],
   "source": [
    "def flip_image(image):\n",
    "    \"\"\"\n",
    "    Reverse using reverse(). In place\n",
    "    \"\"\"\n",
    "    for row in image:\n",
    "        row.reverse()\n",
    "    return image\n",
    "    \n",
    "print(flip_image([[1, 2, 3], [4, 5, 6]]))"
   ]
  },
  {
   "cell_type": "markdown",
   "id": "2a357dec-b94d-453d-bd3b-42b97ca15b20",
   "metadata": {},
   "source": [
    "Here are different ways to **invert an image**"
   ]
  },
  {
   "cell_type": "code",
   "execution_count": 35,
   "id": "40f076ed-d6c9-4edf-9ef5-f7b1a449872f",
   "metadata": {},
   "outputs": [
    {
     "name": "stdout",
     "output_type": "stream",
     "text": [
      "[[0, 1, 0], [0, 0, 0]]\n"
     ]
    }
   ],
   "source": [
    "def invert_image(image):\n",
    "    \"\"\"\n",
    "    Invert using indexing\n",
    "    \"\"\"\n",
    "    new_image = []\n",
    "    for row in image:\n",
    "        new_row = []\n",
    "        for val in row:\n",
    "            if val == 1:\n",
    "                new_row.append(0)\n",
    "            else:\n",
    "                new_row.append(1)\n",
    "        new_image.append(new_row)\n",
    "    return new_image\n",
    "    \n",
    "print(invert_image([[1, 0, 1], [1, 1, 1]]))"
   ]
  },
  {
   "cell_type": "code",
   "execution_count": 45,
   "id": "00e593aa-7c5e-441c-9339-dd701a6ce740",
   "metadata": {},
   "outputs": [
    {
     "name": "stdout",
     "output_type": "stream",
     "text": [
      "[[0, 1, 0], [0, 0, 0]]\n"
     ]
    }
   ],
   "source": [
    "def invert_image(image):\n",
    "    \"\"\"\n",
    "    Invert using nested list comprehension and math\n",
    "    \"\"\"\n",
    "    new_image = [[1 - val for val in row] for row in image]\n",
    "    return new_image\n",
    "    \n",
    "print(invert_image([[1, 0, 1], [1, 1, 1]]))"
   ]
  },
  {
   "cell_type": "markdown",
   "id": "ab2cc95f-7b2c-46b4-8189-2c6a29fc51eb",
   "metadata": {},
   "source": [
    "## Shallow Copy vs Deep Copy\n",
    "\n",
    "Reference: https://docs.python.org/3/library/copy.html\n",
    "\n",
    "The difference between these two kinds of copies only matters to compound object (object that contains other objects, like nested list)"
   ]
  },
  {
   "cell_type": "markdown",
   "id": "22ca5688-332e-4cfb-93be-0152cb310276",
   "metadata": {},
   "source": [
    "### Deep Copy\n",
    "\n",
    "Make a **complete** copy of an object. Changes of one copy does not affect the other"
   ]
  },
  {
   "cell_type": "code",
   "execution_count": 58,
   "id": "ea37ae19-1e13-43ed-a589-e7e0fc91a348",
   "metadata": {},
   "outputs": [
    {
     "name": "stdout",
     "output_type": "stream",
     "text": [
      "Before Change\n",
      "Original: [[1, 2, 3], 4]\n",
      "Copy: [[1, 2, 3], 4]\n",
      "After Change to original\n",
      "Original: [[5, 2, 3], [6, 7, 8]]\n",
      "Copy: [[1, 2, 3], 4]\n"
     ]
    }
   ],
   "source": [
    "import copy\n",
    "\n",
    "original = [[1, 2, 3], 4]\n",
    "deep_copy = copy.deepcopy(original)\n",
    "\n",
    "print(\"Before Change\")\n",
    "print(f\"Original: {original}\")\n",
    "print(f\"Copy: {deep_copy}\")\n",
    "\n",
    "original[0][0] = 5\n",
    "original[1] = [6, 7, 8]\n",
    "\n",
    "print(\"After Change to original\")\n",
    "print(f\"Original: {original}\")\n",
    "print(f\"Copy: {deep_copy}\")"
   ]
  },
  {
   "cell_type": "markdown",
   "id": "28dd1012",
   "metadata": {},
   "source": [
    "### Shallow Copy\n",
    "\n",
    "Make a new compound object but insert the **same references** of the child objects into this new compound object"
   ]
  },
  {
   "cell_type": "code",
   "execution_count": 57,
   "id": "f1f7d04c-a0b9-46ec-8b6d-3d4b08f173c2",
   "metadata": {},
   "outputs": [
    {
     "name": "stdout",
     "output_type": "stream",
     "text": [
      "Before Change\n",
      "Original: [[1, 2, 3], 4]\n",
      "Copy: [[1, 2, 3], 4]\n",
      "After Change to original\n",
      "Original: [[5, 2, 3], [6, 7, 8]]\n",
      "Copy: [[5, 2, 3], 4]\n"
     ]
    }
   ],
   "source": [
    "import copy\n",
    "\n",
    "original = [[1, 2, 3], 4]\n",
    "shallow_copy = copy.copy(original)\n",
    "\n",
    "print(\"Before Change\")\n",
    "print(f\"Original: {original}\")\n",
    "print(f\"Copy: {shallow_copy}\")\n",
    "\n",
    "original[0][0] = 5       # <- this also changes shallow_copy\n",
    "original[1] = [6, 7, 8]  # <- this does not change shallow_copy\n",
    "\n",
    "print(\"After Change to original\")\n",
    "print(f\"Original: {original}\")\n",
    "print(f\"Copy: {shallow_copy}\")"
   ]
  },
  {
   "cell_type": "code",
   "execution_count": null,
   "id": "1e846f1f",
   "metadata": {},
   "outputs": [],
   "source": []
  }
 ],
 "metadata": {
  "kernelspec": {
   "display_name": "Python 3 (ipykernel)",
   "language": "python",
   "name": "python3"
  },
  "language_info": {
   "codemirror_mode": {
    "name": "ipython",
    "version": 3
   },
   "file_extension": ".py",
   "mimetype": "text/x-python",
   "name": "python",
   "nbconvert_exporter": "python",
   "pygments_lexer": "ipython3",
   "version": "3.9.8"
  }
 },
 "nbformat": 4,
 "nbformat_minor": 5
}
